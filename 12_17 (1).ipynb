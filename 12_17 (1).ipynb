{
 "cells": [
  {
   "cell_type": "code",
   "execution_count": 0,
   "metadata": {
    "colab": {},
    "colab_type": "code",
    "collapsed": true,
    "id": "l-48B5fq1_sI"
   },
   "outputs": [],
   "source": []
  },
  {
   "cell_type": "markdown",
   "metadata": {
    "colab_type": "text",
    "id": "HNc2J_6y3tuZ"
   },
   "source": [
    "In all of these problems we will have two functions. The first is the function that we are actually trying to optimize and the second will be the constraint. Sketching the situation will often help us to arrive at these equations so let’s do that.\n",
    "\n",
    "This is a sketch of a rectangle.  The top is labeled “Building” the bottom is labeled “x” and the right side is labeled “y”.\n",
    "In this problem we want to maximize the area of a field and we know that will use 500 ft of fencing material. So, the area will be the function we are trying to optimize and the amount of fencing is the constraint. The two equations for these are,\n",
    "    $$\n",
    "    Maximize : A=xy\n",
    "    $$\n",
    "    $$\n",
    "    Constraint : 500=x+2y\n",
    "    $$\n",
    "Okay, we know how to find the largest or smallest value of a function provided it’s only got a single variable. The area function (as well as the constraint) has two variables in it and so what we know about finding absolute extrema won’t work. However, if we solve the constraint for one of the two variables we can substitute this into the area and we will then have a function of a single variable.\n",
    "\n",
    "So, let’s solve the constraint for x. Note that we could have just as easily solved for y but that would have led to fractions and so, in this case, solving for x will probably be best.\n",
    "    $$\n",
    "    x=500−2y\n",
    "    $$\n",
    "Substituting this into the area function gives a function of y.\n",
    "    $$\n",
    "    A(y)=(500−2y)y=500y−2y^2\n",
    "    $$"
   ]
  },
  {
   "cell_type": "code",
   "execution_count": 13,
   "metadata": {
    "colab": {
     "base_uri": "https://localhost:8080/",
     "height": 265
    },
    "colab_type": "code",
    "collapsed": false,
    "id": "bajESU_CPy1h",
    "outputId": "8b6ceedc-55a5-4d07-b511-33b4e55a547b"
   },
   "outputs": [
    {
     "data": {
      "image/png": "[encoded data removed]",
      "text/plain": [
       "<matplotlib.figure.Figure at 0x26d1b957c18>"
      ]
     },
     "metadata": {},
     "output_type": "display_data"
    }
   ],
   "source": [
    "import tensorflow as tf\n",
    "import numpy as np\n",
    "\n",
    "%matplotlib inline\n",
    "import pylab\n",
    "\n",
    "import matplotlib.pyplot as plt\n",
    "import matplotlib.mlab as mlab\n",
    "import math\n",
    "y=np.arange(0,500,0.0001)\n",
    "x=(500-2*y)*y\n",
    "\n",
    "plt.plot(x,y)\n",
    "plt.show()"
   ]
  },
  {
   "cell_type": "code",
   "execution_count": 5,
   "metadata": {
    "colab": {
     "base_uri": "https://localhost:8080/",
     "height": 34
    },
    "colab_type": "code",
    "collapsed": false,
    "id": "hhI1NgQNP75Z",
    "outputId": "53a9e615-4cd0-4f3d-c451-b1ecc87751c2"
   },
   "outputs": [
    {
     "name": "stdout",
     "output_type": "stream",
     "text": [
      "<tf.Variable 'Variable:0' shape=(1,) dtype=float32_ref>\n"
     ]
    }
   ],
   "source": [
    "y = tf.Variable(tf.random_uniform([1], -500, 500.0))\n",
    "print(y)"
   ]
  },
  {
   "cell_type": "code",
   "execution_count": 6,
   "metadata": {
    "colab": {},
    "colab_type": "code",
    "collapsed": false,
    "id": "mlb5TtKsQMaZ"
   },
   "outputs": [
    {
     "name": "stdout",
     "output_type": "stream",
     "text": [
      "WARNING:tensorflow:From C:\\Program Files\\Anaconda3\\lib\\site-packages\\tensorflow\\python\\util\\tf_should_use.py:118: initialize_all_variables (from tensorflow.python.ops.variables) is deprecated and will be removed after 2017-03-02.\n",
      "Instructions for updating:\n",
      "Use `tf.global_variables_initializer` instead.\n"
     ]
    }
   ],
   "source": [
    "# 1.4 Build training graph.\n",
    "loss = tf.reduce_mean((500-2*y)*y)  # Create an operation that calculates loss.\n",
    "optimizer = tf.train.GradientDescentOptimizer(-0.01)  # Create an optimizer.\n",
    "train = optimizer.minimize(loss)  # Create an operation that minimizes loss.\n",
    "init = tf.initialize_all_variables()  # Create an operation initializes all the variables.\n"
   ]
  },
  {
   "cell_type": "code",
   "execution_count": 7,
   "metadata": {
    "colab": {
     "base_uri": "https://localhost:8080/",
     "height": 34
    },
    "colab_type": "code",
    "collapsed": false,
    "id": "e9H8DtZkQAB4",
    "outputId": "cc0b7ffc-c9f0-42a3-c85d-39c04557a5f0"
   },
   "outputs": [
    {
     "name": "stdout",
     "output_type": "stream",
     "text": [
      "[array([-219.4748], dtype=float32)]\n"
     ]
    }
   ],
   "source": [
    "# 1.6 Create a session and launch the graph.\n",
    "sess = tf.Session()\n",
    "sess.run(init)\n",
    "#y_initial_values = sess.run(y)  # Save initial values for plotting later.\n",
    "\n",
    "# Uncomment the following line to see the initial W and b values.\n",
    "print(sess.run([y]))"
   ]
  },
  {
   "cell_type": "code",
   "execution_count": 8,
   "metadata": {
    "colab": {
     "base_uri": "https://localhost:8080/",
     "height": 34
    },
    "colab_type": "code",
    "collapsed": false,
    "id": "qhxuXTS3QBe4",
    "outputId": "bf913777-7d50-4589-8b2f-312592b33f23"
   },
   "outputs": [
    {
     "name": "stdout",
     "output_type": "stream",
     "text": [
      "[array([124.99991], dtype=float32)]\n"
     ]
    }
   ],
   "source": [
    "# 1.7 Perform training.\n",
    "for step in range(1000):\n",
    "    sess.run(train)\n",
    "    # Uncomment the following two lines to watch training happen real time.\n",
    "    # if step % 20 == 0:\n",
    "    #    print(step, sess.run([W, b]))\n",
    "\n",
    "print(sess.run([y]))"
   ]
  },
  {
   "cell_type": "code",
   "execution_count": 25,
   "metadata": {
    "colab": {
     "base_uri": "https://localhost:8080/",
     "height": 34
    },
    "colab_type": "code",
    "collapsed": false,
    "id": "b5XH6FxrQDVo",
    "outputId": "7ed1662c-0d9d-4ea6-f497-14894cedf176"
   },
   "outputs": [
    {
     "data": {
      "text/plain": [
       "250"
      ]
     },
     "execution_count": 25,
     "metadata": {
      "tags": []
     },
     "output_type": "execute_result"
    }
   ],
   "source": [
    "x = 125\n",
    "y = 500-2*x\n",
    "y"
   ]
  },
  {
   "cell_type": "code",
   "execution_count": 26,
   "metadata": {
    "colab": {
     "base_uri": "https://localhost:8080/",
     "height": 34
    },
    "colab_type": "code",
    "collapsed": false,
    "id": "-NVZ_qtbQGfw",
    "outputId": "8c0ba6a7-b39f-49ff-a56e-84bc01bd9596"
   },
   "outputs": [
    {
     "data": {
      "text/plain": [
       "31250"
      ]
     },
     "execution_count": 26,
     "metadata": {
      "tags": []
     },
     "output_type": "execute_result"
    }
   ],
   "source": [
    "x*y"
   ]
  },
  {
   "cell_type": "code",
   "execution_count": 11,
   "metadata": {
    "colab": {
     "base_uri": "https://localhost:8080/",
     "height": 369
    },
    "colab_type": "code",
    "collapsed": false,
    "id": "i--bBuyFzyXE",
    "outputId": "d0430e34-8155-40ec-81bd-01a584b63d44"
   },
   "outputs": [
    {
     "name": "stdout",
     "output_type": "stream",
     "text": [
      "gaft.ConsoleOutputAnalysis   INFO     Generation: 0, best fitness: 31239.453\n",
      "gaft.ConsoleOutputAnalysis   INFO     Generation: 1, best fitness: 31239.453\n",
      "gaft.ConsoleOutputAnalysis   INFO     Generation: 2, best fitness: 31239.453\n",
      "gaft.ConsoleOutputAnalysis   INFO     Generation: 3, best fitness: 31239.453\n",
      "gaft.ConsoleOutputAnalysis   INFO     Generation: 4, best fitness: 31239.453\n",
      "gaft.ConsoleOutputAnalysis   INFO     Generation: 5, best fitness: 31239.453\n",
      "gaft.ConsoleOutputAnalysis   INFO     Generation: 6, best fitness: 31248.487\n",
      "gaft.ConsoleOutputAnalysis   INFO     Generation: 7, best fitness: 31248.648\n",
      "gaft.ConsoleOutputAnalysis   INFO     Generation: 8, best fitness: 31248.888\n",
      "gaft.ConsoleOutputAnalysis   INFO     Generation: 9, best fitness: 31249.754\n",
      "gaft.ConsoleOutputAnalysis   INFO     Generation: 10, best fitness: 31249.754\n",
      "gaft.ConsoleOutputAnalysis   INFO     Generation: 11, best fitness: 31249.849\n",
      "gaft.ConsoleOutputAnalysis   INFO     Generation: 12, best fitness: 31249.867\n",
      "gaft.ConsoleOutputAnalysis   INFO     Generation: 13, best fitness: 31249.867\n",
      "gaft.ConsoleOutputAnalysis   INFO     Generation: 14, best fitness: 31249.867\n",
      "gaft.ConsoleOutputAnalysis   INFO     Generation: 15, best fitness: 31249.867\n",
      "gaft.ConsoleOutputAnalysis   INFO     Generation: 16, best fitness: 31249.867\n",
      "gaft.ConsoleOutputAnalysis   INFO     Generation: 17, best fitness: 31249.867\n",
      "gaft.ConsoleOutputAnalysis   INFO     Generation: 18, best fitness: 31249.867\n",
      "gaft.ConsoleOutputAnalysis   INFO     Generation: 19, best fitness: 31249.867\n",
      "gaft.ConsoleOutputAnalysis   INFO     Generation: 20, best fitness: 31249.867\n",
      "gaft.ConsoleOutputAnalysis   INFO     Generation: 21, best fitness: 31249.998\n",
      "gaft.ConsoleOutputAnalysis   INFO     Generation: 22, best fitness: 31249.998\n",
      "gaft.ConsoleOutputAnalysis   INFO     Generation: 23, best fitness: 31249.998\n",
      "gaft.ConsoleOutputAnalysis   INFO     Generation: 24, best fitness: 31249.998\n",
      "gaft.ConsoleOutputAnalysis   INFO     Generation: 25, best fitness: 31250.000\n",
      "gaft.ConsoleOutputAnalysis   INFO     Generation: 26, best fitness: 31250.000\n",
      "gaft.ConsoleOutputAnalysis   INFO     Generation: 27, best fitness: 31250.000\n",
      "gaft.ConsoleOutputAnalysis   INFO     Generation: 28, best fitness: 31250.000\n",
      "gaft.ConsoleOutputAnalysis   INFO     Generation: 29, best fitness: 31250.000\n",
      "gaft.ConsoleOutputAnalysis   INFO     Generation: 30, best fitness: 31250.000\n",
      "gaft.ConsoleOutputAnalysis   INFO     Generation: 31, best fitness: 31250.000\n",
      "gaft.ConsoleOutputAnalysis   INFO     Generation: 32, best fitness: 31250.000\n",
      "gaft.ConsoleOutputAnalysis   INFO     Generation: 33, best fitness: 31250.000\n",
      "gaft.ConsoleOutputAnalysis   INFO     Generation: 34, best fitness: 31250.000\n",
      "gaft.ConsoleOutputAnalysis   INFO     Generation: 35, best fitness: 31250.000\n",
      "gaft.ConsoleOutputAnalysis   INFO     Generation: 36, best fitness: 31250.000\n",
      "gaft.ConsoleOutputAnalysis   INFO     Generation: 37, best fitness: 31250.000\n",
      "gaft.ConsoleOutputAnalysis   INFO     Generation: 38, best fitness: 31250.000\n",
      "gaft.ConsoleOutputAnalysis   INFO     Generation: 39, best fitness: 31250.000\n",
      "gaft.ConsoleOutputAnalysis   INFO     Generation: 40, best fitness: 31250.000\n",
      "gaft.ConsoleOutputAnalysis   INFO     Generation: 41, best fitness: 31250.000\n",
      "gaft.ConsoleOutputAnalysis   INFO     Generation: 42, best fitness: 31250.000\n",
      "gaft.ConsoleOutputAnalysis   INFO     Generation: 43, best fitness: 31250.000\n",
      "gaft.ConsoleOutputAnalysis   INFO     Generation: 44, best fitness: 31250.000\n",
      "gaft.ConsoleOutputAnalysis   INFO     Generation: 45, best fitness: 31250.000\n",
      "gaft.ConsoleOutputAnalysis   INFO     Generation: 46, best fitness: 31250.000\n",
      "gaft.ConsoleOutputAnalysis   INFO     Generation: 47, best fitness: 31250.000\n",
      "gaft.ConsoleOutputAnalysis   INFO     Generation: 48, best fitness: 31250.000\n",
      "gaft.ConsoleOutputAnalysis   INFO     Generation: 49, best fitness: 31250.000\n",
      "gaft.ConsoleOutputAnalysis   INFO     Generation: 50, best fitness: 31250.000\n",
      "gaft.ConsoleOutputAnalysis   INFO     Generation: 51, best fitness: 31250.000\n",
      "gaft.ConsoleOutputAnalysis   INFO     Generation: 52, best fitness: 31250.000\n",
      "gaft.ConsoleOutputAnalysis   INFO     Generation: 53, best fitness: 31250.000\n",
      "gaft.ConsoleOutputAnalysis   INFO     Generation: 54, best fitness: 31250.000\n",
      "gaft.ConsoleOutputAnalysis   INFO     Generation: 55, best fitness: 31250.000\n",
      "gaft.ConsoleOutputAnalysis   INFO     Generation: 56, best fitness: 31250.000\n",
      "gaft.ConsoleOutputAnalysis   INFO     Generation: 57, best fitness: 31250.000\n",
      "gaft.ConsoleOutputAnalysis   INFO     Generation: 58, best fitness: 31250.000\n",
      "gaft.ConsoleOutputAnalysis   INFO     Generation: 59, best fitness: 31250.000\n",
      "gaft.ConsoleOutputAnalysis   INFO     Generation: 60, best fitness: 31250.000\n",
      "gaft.ConsoleOutputAnalysis   INFO     Generation: 61, best fitness: 31250.000\n",
      "gaft.ConsoleOutputAnalysis   INFO     Generation: 62, best fitness: 31250.000\n",
      "gaft.ConsoleOutputAnalysis   INFO     Generation: 63, best fitness: 31250.000\n",
      "gaft.ConsoleOutputAnalysis   INFO     Generation: 64, best fitness: 31250.000\n",
      "gaft.ConsoleOutputAnalysis   INFO     Generation: 65, best fitness: 31250.000\n",
      "gaft.ConsoleOutputAnalysis   INFO     Generation: 66, best fitness: 31250.000\n",
      "gaft.ConsoleOutputAnalysis   INFO     Generation: 67, best fitness: 31250.000\n",
      "gaft.ConsoleOutputAnalysis   INFO     Generation: 68, best fitness: 31250.000\n",
      "gaft.ConsoleOutputAnalysis   INFO     Generation: 69, best fitness: 31250.000\n",
      "gaft.ConsoleOutputAnalysis   INFO     Generation: 70, best fitness: 31250.000\n",
      "gaft.ConsoleOutputAnalysis   INFO     Generation: 71, best fitness: 31250.000\n",
      "gaft.ConsoleOutputAnalysis   INFO     Generation: 72, best fitness: 31250.000\n",
      "gaft.ConsoleOutputAnalysis   INFO     Generation: 73, best fitness: 31250.000\n",
      "gaft.ConsoleOutputAnalysis   INFO     Generation: 74, best fitness: 31250.000\n",
      "gaft.ConsoleOutputAnalysis   INFO     Generation: 75, best fitness: 31250.000\n",
      "gaft.ConsoleOutputAnalysis   INFO     Generation: 76, best fitness: 31250.000\n",
      "gaft.ConsoleOutputAnalysis   INFO     Generation: 77, best fitness: 31250.000\n",
      "gaft.ConsoleOutputAnalysis   INFO     Generation: 78, best fitness: 31250.000\n",
      "gaft.ConsoleOutputAnalysis   INFO     Generation: 79, best fitness: 31250.000\n",
      "gaft.ConsoleOutputAnalysis   INFO     Generation: 80, best fitness: 31250.000\n",
      "gaft.ConsoleOutputAnalysis   INFO     Generation: 81, best fitness: 31250.000\n",
      "gaft.ConsoleOutputAnalysis   INFO     Generation: 82, best fitness: 31250.000\n",
      "gaft.ConsoleOutputAnalysis   INFO     Generation: 83, best fitness: 31250.000\n",
      "gaft.ConsoleOutputAnalysis   INFO     Generation: 84, best fitness: 31250.000\n",
      "gaft.ConsoleOutputAnalysis   INFO     Generation: 85, best fitness: 31250.000\n",
      "gaft.ConsoleOutputAnalysis   INFO     Generation: 86, best fitness: 31250.000\n",
      "gaft.ConsoleOutputAnalysis   INFO     Generation: 87, best fitness: 31250.000\n",
      "gaft.ConsoleOutputAnalysis   INFO     Generation: 88, best fitness: 31250.000\n",
      "gaft.ConsoleOutputAnalysis   INFO     Generation: 89, best fitness: 31250.000\n",
      "gaft.ConsoleOutputAnalysis   INFO     Generation: 90, best fitness: 31250.000\n",
      "gaft.ConsoleOutputAnalysis   INFO     Generation: 91, best fitness: 31250.000\n",
      "gaft.ConsoleOutputAnalysis   INFO     Generation: 92, best fitness: 31250.000\n",
      "gaft.ConsoleOutputAnalysis   INFO     Generation: 93, best fitness: 31250.000\n",
      "gaft.ConsoleOutputAnalysis   INFO     Generation: 94, best fitness: 31250.000\n",
      "gaft.ConsoleOutputAnalysis   INFO     Generation: 95, best fitness: 31250.000\n",
      "gaft.ConsoleOutputAnalysis   INFO     Generation: 96, best fitness: 31250.000\n",
      "gaft.ConsoleOutputAnalysis   INFO     Generation: 97, best fitness: 31250.000\n",
      "gaft.ConsoleOutputAnalysis   INFO     Generation: 98, best fitness: 31250.000\n",
      "gaft.ConsoleOutputAnalysis   INFO     Generation: 99, best fitness: 31250.000\n",
      "gaft.FitnessStore   INFO     Best fitness values are written to best_fit.py\n",
      "gaft.ConsoleOutputAnalysis   INFO     Optimal solution: ([124.99809265136719], 31249.999992724042)\n"
     ]
    }
   ],
   "source": [
    "from math import sin, cos\n",
    "\n",
    "from gaft import GAEngine\n",
    "from gaft.components import BinaryIndividual\n",
    "from gaft.components import Population\n",
    "from gaft.operators import TournamentSelection\n",
    "from gaft.operators import UniformCrossover\n",
    "from gaft.operators import FlipBitMutation\n",
    "\n",
    "# Analysis plugin base class.\n",
    "from gaft.plugin_interfaces.analysis import OnTheFlyAnalysis\n",
    "\n",
    "# Built-in best fitness analysis.\n",
    "from gaft.analysis.fitness_store import FitnessStore\n",
    "\n",
    "# Define population.\n",
    "indv_template = BinaryIndividual(ranges=[(0,250)], eps=0.001)\n",
    "population = Population(indv_template=indv_template, size=30).init()\n",
    "\n",
    "# Create genetic operators.\n",
    "selection = TournamentSelection()\n",
    "crossover = UniformCrossover(pc=0.8, pe=0.5)\n",
    "mutation = FlipBitMutation(pm=0.1)\n",
    "\n",
    "# Create genetic algorithm engine.\n",
    "engine = GAEngine(population=population, selection=selection,\n",
    "                  crossover=crossover, mutation=mutation,\n",
    "                  analysis=[FitnessStore])\n",
    "\n",
    "# Define fitness function.\n",
    "@engine.fitness_register\n",
    "def fitness(indv):\n",
    "    y, = indv.solution\n",
    "    return (500-2*y)*y\n",
    "\n",
    "# Define on-the-fly analysis.\n",
    "@engine.analysis_register\n",
    "class ConsoleOutputAnalysis(OnTheFlyAnalysis):\n",
    "    interval = 1\n",
    "    master_only = True\n",
    "\n",
    "    def register_step(self, g, population, engine):\n",
    "        best_indv = population.best_indv(engine.fitness)\n",
    "        msg = 'Generation: {}, best fitness: {:.3f}'.format(g, engine.ori_fmax)\n",
    "        self.logger.info(msg)\n",
    "\n",
    "    def finalize(self, population, engine):\n",
    "        best_indv = population.best_indv(engine.fitness)\n",
    "        x = best_indv.solution\n",
    "        y = engine.ori_fmax\n",
    "        msg = 'Optimal solution: ({}, {})'.format(x, y)\n",
    "        self.logger.info(msg)\n",
    "\n",
    "if '__main__' == __name__:\n",
    "    # Run the GA engine.\n",
    "    engine.run(ng=100)"
   ]
  },
  {
   "cell_type": "code",
   "execution_count": 16,
   "metadata": {
    "collapsed": false
   },
   "outputs": [
    {
     "name": "stdout",
     "output_type": "stream",
     "text": [
      "x= 250 y= 125 a= 31250\n"
     ]
    }
   ],
   "source": [
    "y = 125\n",
    "x= 500-2*y\n",
    "a = x*y\n",
    "\n",
    "print('x=',x,'y=',y,'a=',a)"
   ]
  },
  {
   "cell_type": "code",
   "execution_count": null,
   "metadata": {
    "collapsed": true
   },
   "outputs": [],
   "source": []
  }
 ],
 "metadata": {
  "anaconda-cloud": {},
  "colab": {
   "name": "12/10.ipynb",
   "provenance": [],
   "version": "0.3.2"
  },
  "kernelspec": {
   "display_name": "Python [default]",
   "language": "python",
   "name": "python3"
  },
  "language_info": {
   "codemirror_mode": {
    "name": "ipython",
    "version": 3
   },
   "file_extension": ".py",
   "mimetype": "text/x-python",
   "name": "python",
   "nbconvert_exporter": "python",
   "pygments_lexer": "ipython3",
   "version": "3.5.2"
  }
 },
 "nbformat": 4,
 "nbformat_minor": 0
}
