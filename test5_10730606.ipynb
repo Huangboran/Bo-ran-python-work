{
 "cells": [
  {
   "cell_type": "markdown",
   "metadata": {},
   "source": [
    "Given function $$f(x) = x^2$$ $$[0,2]$$ $$n=4$$"
   ]
  },
  {
   "cell_type": "markdown",
   "metadata": {},
   "source": [
    "A Riemann sum is a certain kind of approximation of an integral by a finite sum.\n",
    "This approach can be used to find a numerical approximation for a definite integral even if the fundamental theorem of calculus does not make it easy to find a closed-form solution.\n",
    "German mathematician Bernhard Riemann\n",
    "https://en.wikipedia.org/wiki/Riemann_sum"
   ]
  },
  {
   "cell_type": "markdown",
   "metadata": {},
   "source": [
    "Let $ f:[0,2]\\rightarrow R $ be a function defined on a closed interval $ [a,b] $ of the real numbers, $R$ , and\n",
    "$$ P=\\left\\{[x_{0},x_{1}],[x_{1},x_{2}],[x_{2},x_{3}],[x_{3},x_{4}]\\right\\}$$,\n",
    "be a partition of I, where\n",
    "$$a=x_{0}<x_{1}<x_{2}<x_{3} <x_{4}=b$$.\n",
    "A Riemann sum $S$ of $f$ over $I$ with partition $P$ is defined as\n",
    "$$ S=\\sum _{i=1}^{4}f(x_{i}^{*})\\,\\Delta x_{i} $$\n",
    "where $\\Delta x_{i}=x_{i}-x_{i-1}  \\Delta x_{i}=x_{i}-x_{i-1}$ and an $ x_{i}^{*}\\in [x_{i-1},x_{i}]$, the choice of $x_{i}^{*}$ in the interval $ [x_{i-1},x_{i}]$ is arbitrary,."
   ]
  },
  {
   "cell_type": "markdown",
   "metadata": {},
   "source": [
    "Methods:\n",
    "\n",
    "The four methods of Riemann summation are usually best approached with partitions of equal size. The interval [a, b] is therefore divided into n subintervals, each of length\n",
    "\n",
    "$$ \\Delta x={\\frac {b-a}{n}}$$.\n",
    "The points in the partition will then be\n",
    "\n",
    "$ a,a+\\Delta x,a+2\\,\\Delta x,\\ldots ,a+(n-2)\\,\\Delta x,a+(n-1)\\,\\Delta x,b.$"
   ]
  },
  {
   "cell_type": "code",
   "execution_count": 37,
   "metadata": {},
   "outputs": [
    {
     "data": {
      "text/plain": [
       "0.5"
      ]
     },
     "execution_count": 37,
     "metadata": {},
     "output_type": "execute_result"
    }
   ],
   "source": [
    "#Example: [a,b], n\n",
    "# https://matplotlib.org/users/pyplot_tutorial.html\n",
    "import numpy as np\n",
    "import matplotlib.pyplot as plt\n",
    "a=0\n",
    "b=2\n",
    "n=4\n",
    "deltax=(b-a)/n\n",
    "deltax"
   ]
  },
  {
   "cell_type": "code",
   "execution_count": 38,
   "metadata": {},
   "outputs": [
    {
     "data": {
      "text/plain": [
       "array([0. , 0.5, 1. , 1.5, 2. ])"
      ]
     },
     "execution_count": 38,
     "metadata": {},
     "output_type": "execute_result"
    }
   ],
   "source": [
    "# evenly sampled time at delta x intervals\n",
    "x = np.arange(a, b+deltax, deltax)\n",
    "#x = np.linspace(a, b, n+1)\n",
    "x"
   ]
  },
  {
   "cell_type": "code",
   "execution_count": 26,
   "metadata": {},
   "outputs": [
    {
     "data": {
      "image/png": "[encoded data removed]",
      "text/plain": [
       "<Figure size 432x288 with 1 Axes>"
      ]
     },
     "metadata": {},
     "output_type": "display_data"
    }
   ],
   "source": [
    "# red dashes, blue squares and green triangles\n",
    "\n",
    "x = np.linspace(-3, 3, 50)\n",
    "y1 = x**2\n",
    "\n",
    "\n",
    "plt.figure()\n",
    "#set x limits\n",
    "plt.xlim((0, 2))\n",
    "plt.ylim((0, 4))\n",
    "\n",
    "# set new sticks\n",
    "new_sticks = np.linspace(0, 2, 5)\n",
    "plt.xticks(new_sticks)\n",
    "# set tick labels\n",
    "plt.yticks(np.arange(0, 5, step=1))\n",
    "\n",
    "# set line styles\n",
    "l1, = plt.plot(x, y1, color='red', linewidth=1.0, linestyle='--', label='f(x)= x^2')\n",
    "\n",
    "plt.legend(loc='upper left')\n",
    "\n",
    "plt.show()"
   ]
  },
  {
   "cell_type": "markdown",
   "metadata": {},
   "source": [
    "Left Riemann sum\n",
    "For the left Riemann sum, approximating the function by its value at the left-end point gives multiple rectangles with base Δx and height f(a + iΔx). Doing this for i = 0, 1, ..., n − 1, and adding up the resulting areas gives\n",
    "\n",
    "$$\\Delta x\\left[f(a)+f(a+\\Delta x)+f(a+2\\,\\Delta x)+\\cdots +f(b-\\Delta x)\\right].$$"
   ]
  },
  {
   "cell_type": "code",
   "execution_count": 33,
   "metadata": {},
   "outputs": [
    {
     "data": {
      "text/plain": [
       "array([0. , 0.5, 1. , 1.5])"
      ]
     },
     "execution_count": 33,
     "metadata": {},
     "output_type": "execute_result"
    }
   ],
   "source": [
    "x = np.arange(a, b, deltax)\n",
    "x"
   ]
  },
  {
   "cell_type": "code",
   "execution_count": 34,
   "metadata": {},
   "outputs": [
    {
     "data": {
      "text/plain": [
       "1.75"
      ]
     },
     "execution_count": 34,
     "metadata": {},
     "output_type": "execute_result"
    }
   ],
   "source": [
    "y1=x**2\n",
    "deltax*np.sum(y1)"
   ]
  },
  {
   "cell_type": "markdown",
   "metadata": {},
   "source": [
    "Right Riemann sum\n",
    "f is here approximated by the value at the right endpoint. This gives multiple rectangles with base Δx and height $f(a + i Δx)$. Doing this for $i = 1, ..., n$, and adding up the resulting areas produces\n",
    "\n",
    "$$ \\Delta x\\left[f(a+\\Delta x)+f(a+2\\,\\Delta x)+\\cdots +f(b)\\right].$$"
   ]
  },
  {
   "cell_type": "code",
   "execution_count": 35,
   "metadata": {},
   "outputs": [
    {
     "data": {
      "text/plain": [
       "array([0.5, 1. , 1.5, 2. ])"
      ]
     },
     "execution_count": 35,
     "metadata": {},
     "output_type": "execute_result"
    }
   ],
   "source": [
    "x = np.arange(a+deltax, b+deltax, deltax)\n",
    "x"
   ]
  },
  {
   "cell_type": "code",
   "execution_count": 36,
   "metadata": {},
   "outputs": [
    {
     "data": {
      "text/plain": [
       "3.75"
      ]
     },
     "execution_count": 36,
     "metadata": {},
     "output_type": "execute_result"
    }
   ],
   "source": [
    "y1=x**2\n",
    "deltax*np.sum(y1)"
   ]
  },
  {
   "cell_type": "code",
   "execution_count": null,
   "metadata": {},
   "outputs": [],
   "source": []
  }
 ],
 "metadata": {
  "kernelspec": {
   "display_name": "Python 3",
   "language": "python",
   "name": "python3"
  },
  "language_info": {
   "codemirror_mode": {
    "name": "ipython",
    "version": 3
   },
   "file_extension": ".py",
   "mimetype": "text/x-python",
   "name": "python",
   "nbconvert_exporter": "python",
   "pygments_lexer": "ipython3",
   "version": "3.6.5"
  }
 },
 "nbformat": 4,
 "nbformat_minor": 2
}
